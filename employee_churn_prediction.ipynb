{
  "nbformat": 4,
  "nbformat_minor": 0,
  "metadata": {
    "colab": {
      "name": "employee_churn_prediction.ipynb",
      "provenance": [],
      "collapsed_sections": [],
      "include_colab_link": true
    },
    "kernelspec": {
      "display_name": "Python 3",
      "language": "python",
      "name": "python3"
    },
    "language_info": {
      "codemirror_mode": {
        "name": "ipython",
        "version": 3
      },
      "file_extension": ".py",
      "mimetype": "text/x-python",
      "name": "python",
      "nbconvert_exporter": "python",
      "pygments_lexer": "ipython3",
      "version": "3.7.10"
    },
    "gpuClass": "standard",
    "accelerator": "GPU"
  },
  "cells": [
    {
      "cell_type": "markdown",
      "metadata": {
        "id": "view-in-github",
        "colab_type": "text"
      },
      "source": [
        "<a href=\"https://colab.research.google.com/github/KelvinLam05/employee_churn_prediction/blob/main/employee_churn_prediction.ipynb\" target=\"_parent\"><img src=\"https://colab.research.google.com/assets/colab-badge.svg\" alt=\"Open In Colab\"/></a>"
      ]
    },
    {
      "cell_type": "markdown",
      "source": [
        "**Goal of the project**"
      ],
      "metadata": {
        "id": "Hbf-rioQ5t8N"
      }
    },
    {
      "cell_type": "markdown",
      "source": [
        "In this notebook, we will use ktrain to create an employee churn model that will predict which of our staff is going to quit before they hand in their resignation letter."
      ],
      "metadata": {
        "id": "m-6ScYmXyTE2"
      }
    },
    {
      "cell_type": "markdown",
      "source": [
        "**Load and preprocess data**"
      ],
      "metadata": {
        "id": "klGhBBzY0stv"
      }
    },
    {
      "cell_type": "code",
      "metadata": {
        "id": "ndHXOSfqn_1i"
      },
      "source": [
        "# Importing libraries\n",
        "import pandas as pd"
      ],
      "execution_count": null,
      "outputs": []
    },
    {
      "cell_type": "code",
      "metadata": {
        "id": "QsdinknLvooO"
      },
      "source": [
        "# Load dataset\n",
        "df = pd.read_csv('/content/hr_dataset.csv')"
      ],
      "execution_count": null,
      "outputs": []
    },
    {
      "cell_type": "code",
      "source": [
        "# Rename Pandas columns to lower case\n",
        "df.columns = df.columns.str.lower()"
      ],
      "metadata": {
        "id": "c3qxoRlNEUiX"
      },
      "execution_count": null,
      "outputs": []
    },
    {
      "cell_type": "code",
      "source": [
        "df = df.applymap(lambda s: s.lower() if type(s) == str else s)"
      ],
      "metadata": {
        "id": "13DEHLfAEW63"
      },
      "execution_count": null,
      "outputs": []
    },
    {
      "cell_type": "code",
      "metadata": {
        "colab": {
          "base_uri": "https://localhost:8080/",
          "height": 268
        },
        "id": "DP1E6cH-w48j",
        "outputId": "b35f9fd9-72b1-4e30-8e88-e963513db914"
      },
      "source": [
        "# Examine the data\n",
        "df.head()"
      ],
      "execution_count": null,
      "outputs": [
        {
          "output_type": "execute_result",
          "data": {
            "text/plain": [
              "   satisfaction_level  last_evaluation  number_project  average_montly_hours  \\\n",
              "0                0.38             0.53               2                   157   \n",
              "1                0.80             0.86               5                   262   \n",
              "2                0.11             0.88               7                   272   \n",
              "3                0.72             0.87               5                   223   \n",
              "4                0.37             0.52               2                   159   \n",
              "\n",
              "   time_spend_company  work_accident  left  promotion_last_5years  \\\n",
              "0                   3              0     1                      0   \n",
              "1                   6              0     1                      0   \n",
              "2                   4              0     1                      0   \n",
              "3                   5              0     1                      0   \n",
              "4                   3              0     1                      0   \n",
              "\n",
              "  departments   salary  \n",
              "0        sales     low  \n",
              "1        sales  medium  \n",
              "2        sales  medium  \n",
              "3        sales     low  \n",
              "4        sales     low  "
            ],
            "text/html": [
              "\n",
              "  <div id=\"df-88863f1e-22a4-4c16-9c80-db5a052eedd2\">\n",
              "    <div class=\"colab-df-container\">\n",
              "      <div>\n",
              "<style scoped>\n",
              "    .dataframe tbody tr th:only-of-type {\n",
              "        vertical-align: middle;\n",
              "    }\n",
              "\n",
              "    .dataframe tbody tr th {\n",
              "        vertical-align: top;\n",
              "    }\n",
              "\n",
              "    .dataframe thead th {\n",
              "        text-align: right;\n",
              "    }\n",
              "</style>\n",
              "<table border=\"1\" class=\"dataframe\">\n",
              "  <thead>\n",
              "    <tr style=\"text-align: right;\">\n",
              "      <th></th>\n",
              "      <th>satisfaction_level</th>\n",
              "      <th>last_evaluation</th>\n",
              "      <th>number_project</th>\n",
              "      <th>average_montly_hours</th>\n",
              "      <th>time_spend_company</th>\n",
              "      <th>work_accident</th>\n",
              "      <th>left</th>\n",
              "      <th>promotion_last_5years</th>\n",
              "      <th>departments</th>\n",
              "      <th>salary</th>\n",
              "    </tr>\n",
              "  </thead>\n",
              "  <tbody>\n",
              "    <tr>\n",
              "      <th>0</th>\n",
              "      <td>0.38</td>\n",
              "      <td>0.53</td>\n",
              "      <td>2</td>\n",
              "      <td>157</td>\n",
              "      <td>3</td>\n",
              "      <td>0</td>\n",
              "      <td>1</td>\n",
              "      <td>0</td>\n",
              "      <td>sales</td>\n",
              "      <td>low</td>\n",
              "    </tr>\n",
              "    <tr>\n",
              "      <th>1</th>\n",
              "      <td>0.80</td>\n",
              "      <td>0.86</td>\n",
              "      <td>5</td>\n",
              "      <td>262</td>\n",
              "      <td>6</td>\n",
              "      <td>0</td>\n",
              "      <td>1</td>\n",
              "      <td>0</td>\n",
              "      <td>sales</td>\n",
              "      <td>medium</td>\n",
              "    </tr>\n",
              "    <tr>\n",
              "      <th>2</th>\n",
              "      <td>0.11</td>\n",
              "      <td>0.88</td>\n",
              "      <td>7</td>\n",
              "      <td>272</td>\n",
              "      <td>4</td>\n",
              "      <td>0</td>\n",
              "      <td>1</td>\n",
              "      <td>0</td>\n",
              "      <td>sales</td>\n",
              "      <td>medium</td>\n",
              "    </tr>\n",
              "    <tr>\n",
              "      <th>3</th>\n",
              "      <td>0.72</td>\n",
              "      <td>0.87</td>\n",
              "      <td>5</td>\n",
              "      <td>223</td>\n",
              "      <td>5</td>\n",
              "      <td>0</td>\n",
              "      <td>1</td>\n",
              "      <td>0</td>\n",
              "      <td>sales</td>\n",
              "      <td>low</td>\n",
              "    </tr>\n",
              "    <tr>\n",
              "      <th>4</th>\n",
              "      <td>0.37</td>\n",
              "      <td>0.52</td>\n",
              "      <td>2</td>\n",
              "      <td>159</td>\n",
              "      <td>3</td>\n",
              "      <td>0</td>\n",
              "      <td>1</td>\n",
              "      <td>0</td>\n",
              "      <td>sales</td>\n",
              "      <td>low</td>\n",
              "    </tr>\n",
              "  </tbody>\n",
              "</table>\n",
              "</div>\n",
              "      <button class=\"colab-df-convert\" onclick=\"convertToInteractive('df-88863f1e-22a4-4c16-9c80-db5a052eedd2')\"\n",
              "              title=\"Convert this dataframe to an interactive table.\"\n",
              "              style=\"display:none;\">\n",
              "        \n",
              "  <svg xmlns=\"http://www.w3.org/2000/svg\" height=\"24px\"viewBox=\"0 0 24 24\"\n",
              "       width=\"24px\">\n",
              "    <path d=\"M0 0h24v24H0V0z\" fill=\"none\"/>\n",
              "    <path d=\"M18.56 5.44l.94 2.06.94-2.06 2.06-.94-2.06-.94-.94-2.06-.94 2.06-2.06.94zm-11 1L8.5 8.5l.94-2.06 2.06-.94-2.06-.94L8.5 2.5l-.94 2.06-2.06.94zm10 10l.94 2.06.94-2.06 2.06-.94-2.06-.94-.94-2.06-.94 2.06-2.06.94z\"/><path d=\"M17.41 7.96l-1.37-1.37c-.4-.4-.92-.59-1.43-.59-.52 0-1.04.2-1.43.59L10.3 9.45l-7.72 7.72c-.78.78-.78 2.05 0 2.83L4 21.41c.39.39.9.59 1.41.59.51 0 1.02-.2 1.41-.59l7.78-7.78 2.81-2.81c.8-.78.8-2.07 0-2.86zM5.41 20L4 18.59l7.72-7.72 1.47 1.35L5.41 20z\"/>\n",
              "  </svg>\n",
              "      </button>\n",
              "      \n",
              "  <style>\n",
              "    .colab-df-container {\n",
              "      display:flex;\n",
              "      flex-wrap:wrap;\n",
              "      gap: 12px;\n",
              "    }\n",
              "\n",
              "    .colab-df-convert {\n",
              "      background-color: #E8F0FE;\n",
              "      border: none;\n",
              "      border-radius: 50%;\n",
              "      cursor: pointer;\n",
              "      display: none;\n",
              "      fill: #1967D2;\n",
              "      height: 32px;\n",
              "      padding: 0 0 0 0;\n",
              "      width: 32px;\n",
              "    }\n",
              "\n",
              "    .colab-df-convert:hover {\n",
              "      background-color: #E2EBFA;\n",
              "      box-shadow: 0px 1px 2px rgba(60, 64, 67, 0.3), 0px 1px 3px 1px rgba(60, 64, 67, 0.15);\n",
              "      fill: #174EA6;\n",
              "    }\n",
              "\n",
              "    [theme=dark] .colab-df-convert {\n",
              "      background-color: #3B4455;\n",
              "      fill: #D2E3FC;\n",
              "    }\n",
              "\n",
              "    [theme=dark] .colab-df-convert:hover {\n",
              "      background-color: #434B5C;\n",
              "      box-shadow: 0px 1px 3px 1px rgba(0, 0, 0, 0.15);\n",
              "      filter: drop-shadow(0px 1px 2px rgba(0, 0, 0, 0.3));\n",
              "      fill: #FFFFFF;\n",
              "    }\n",
              "  </style>\n",
              "\n",
              "      <script>\n",
              "        const buttonEl =\n",
              "          document.querySelector('#df-88863f1e-22a4-4c16-9c80-db5a052eedd2 button.colab-df-convert');\n",
              "        buttonEl.style.display =\n",
              "          google.colab.kernel.accessAllowed ? 'block' : 'none';\n",
              "\n",
              "        async function convertToInteractive(key) {\n",
              "          const element = document.querySelector('#df-88863f1e-22a4-4c16-9c80-db5a052eedd2');\n",
              "          const dataTable =\n",
              "            await google.colab.kernel.invokeFunction('convertToInteractive',\n",
              "                                                     [key], {});\n",
              "          if (!dataTable) return;\n",
              "\n",
              "          const docLinkHtml = 'Like what you see? Visit the ' +\n",
              "            '<a target=\"_blank\" href=https://colab.research.google.com/notebooks/data_table.ipynb>data table notebook</a>'\n",
              "            + ' to learn more about interactive tables.';\n",
              "          element.innerHTML = '';\n",
              "          dataTable['output_type'] = 'display_data';\n",
              "          await google.colab.output.renderOutput(dataTable, element);\n",
              "          const docLink = document.createElement('div');\n",
              "          docLink.innerHTML = docLinkHtml;\n",
              "          element.appendChild(docLink);\n",
              "        }\n",
              "      </script>\n",
              "    </div>\n",
              "  </div>\n",
              "  "
            ]
          },
          "metadata": {},
          "execution_count": 66
        }
      ]
    },
    {
      "cell_type": "code",
      "metadata": {
        "colab": {
          "base_uri": "https://localhost:8080/"
        },
        "id": "rtyTVl7fxUo9",
        "outputId": "5bbbe7e9-086b-4771-f90c-eaa6643ba279"
      },
      "source": [
        "# Overview of all variables, their datatypes\n",
        "df.info()"
      ],
      "execution_count": null,
      "outputs": [
        {
          "output_type": "stream",
          "name": "stdout",
          "text": [
            "<class 'pandas.core.frame.DataFrame'>\n",
            "RangeIndex: 14999 entries, 0 to 14998\n",
            "Data columns (total 10 columns):\n",
            " #   Column                 Non-Null Count  Dtype  \n",
            "---  ------                 --------------  -----  \n",
            " 0   satisfaction_level     14999 non-null  float64\n",
            " 1   last_evaluation        14999 non-null  float64\n",
            " 2   number_project         14999 non-null  int64  \n",
            " 3   average_montly_hours   14999 non-null  int64  \n",
            " 4   time_spend_company     14999 non-null  int64  \n",
            " 5   work_accident          14999 non-null  int64  \n",
            " 6   left                   14999 non-null  int64  \n",
            " 7   promotion_last_5years  14999 non-null  int64  \n",
            " 8   departments            14999 non-null  object \n",
            " 9   salary                 14999 non-null  object \n",
            "dtypes: float64(2), int64(6), object(2)\n",
            "memory usage: 1.1+ MB\n"
          ]
        }
      ]
    },
    {
      "cell_type": "code",
      "source": [
        "X = df.drop(['left'], axis = 1)"
      ],
      "metadata": {
        "id": "LkA8A1wyOqUs"
      },
      "execution_count": null,
      "outputs": []
    },
    {
      "cell_type": "code",
      "source": [
        "y = df['left']"
      ],
      "metadata": {
        "id": "OdGKyRP3OriN"
      },
      "execution_count": null,
      "outputs": []
    },
    {
      "cell_type": "code",
      "source": [
        "from sklearn.model_selection import train_test_split"
      ],
      "metadata": {
        "id": "moCc5uY6Oz5_"
      },
      "execution_count": null,
      "outputs": []
    },
    {
      "cell_type": "code",
      "source": [
        "# Stratified sampling based on the distribution of the target vector, y\n",
        "X_train, X_test, y_train, y_test = train_test_split(X, y, test_size = 0.2, random_state = 42, stratify = y)"
      ],
      "metadata": {
        "id": "828op-P9M8G8"
      },
      "execution_count": null,
      "outputs": []
    },
    {
      "cell_type": "code",
      "source": [
        "train_df = X_train.join(y_train)"
      ],
      "metadata": {
        "id": "6q4KT5T1PQt0"
      },
      "execution_count": null,
      "outputs": []
    },
    {
      "cell_type": "code",
      "source": [
        "test_df = X_test.join(y_test)"
      ],
      "metadata": {
        "id": "vWasm2D2PWk6"
      },
      "execution_count": null,
      "outputs": []
    },
    {
      "cell_type": "code",
      "source": [
        "import ktrain\n",
        "from ktrain import tabular"
      ],
      "metadata": {
        "id": "H0nXWKm6FLbL"
      },
      "execution_count": null,
      "outputs": []
    },
    {
      "cell_type": "code",
      "source": [
        "trn, val, preproc = tabular.tabular_from_df(train_df, label_columns = ['left'], random_state = 42)"
      ],
      "metadata": {
        "id": "TJ5ucHm3IBGW"
      },
      "execution_count": null,
      "outputs": []
    },
    {
      "cell_type": "markdown",
      "source": [
        "**Create model and wrap in learner**"
      ],
      "metadata": {
        "id": "YhFCQgLv06nu"
      }
    },
    {
      "cell_type": "code",
      "source": [
        "import tensorflow as tf"
      ],
      "metadata": {
        "id": "GprVQyZdTmMq"
      },
      "execution_count": null,
      "outputs": []
    },
    {
      "cell_type": "code",
      "source": [
        "# Create model\n",
        "model = tabular.tabular_classifier('mlp', trn, metrics = [tf.keras.metrics.Precision(), tf.keras.metrics.Recall()])"
      ],
      "metadata": {
        "colab": {
          "base_uri": "https://localhost:8080/"
        },
        "id": "65vCzssrJHHd",
        "outputId": "8dd62217-c2c1-4c90-c8ca-c4e5209e7697"
      },
      "execution_count": null,
      "outputs": [
        {
          "output_type": "stream",
          "name": "stdout",
          "text": [
            "Is Multi-Label? False\n",
            "done.\n"
          ]
        }
      ]
    },
    {
      "cell_type": "code",
      "source": [
        "# Wrap model and data in ktrain.Learner object\n",
        "learner = ktrain.get_learner(model, train_data = trn, val_data = val, batch_size = 32)"
      ],
      "metadata": {
        "id": "4OIzBXSzJbas"
      },
      "execution_count": null,
      "outputs": []
    },
    {
      "cell_type": "markdown",
      "source": [
        "**Estimate a good learning rate**"
      ],
      "metadata": {
        "id": "hno59N-L1Hg9"
      }
    },
    {
      "cell_type": "markdown",
      "source": [
        "To train the model, we will first find the optimal learning rate that suits well to our problem. ktrain provides a very good method named lr_find which trains the model at different learning rates and plots loss of the model as the learning rate is increased."
      ],
      "metadata": {
        "id": "m7zvPEv6E9Ao"
      }
    },
    {
      "cell_type": "code",
      "source": [
        "# Briefly simulate training to find good learning rate\n",
        "learner.lr_find(max_epochs = 3, suggest = True) "
      ],
      "metadata": {
        "colab": {
          "base_uri": "https://localhost:8080/"
        },
        "id": "RJlzP8rNKw4U",
        "outputId": "f07f9bb3-8e83-4da9-bfc9-9f4973ec0e63"
      },
      "execution_count": null,
      "outputs": [
        {
          "output_type": "stream",
          "name": "stdout",
          "text": [
            "simulating training for different learning rates... this may take a few moments...\n",
            "Epoch 1/3\n",
            "338/338 [==============================] - 6s 16ms/step - loss: 0.6531 - precision_3: 0.7011 - recall_3: 0.7011\n",
            "Epoch 2/3\n",
            "338/338 [==============================] - 5s 14ms/step - loss: 0.2657 - precision_3: 0.9034 - recall_3: 0.9034\n",
            "Epoch 3/3\n",
            "338/338 [==============================] - 2s 5ms/step - loss: 1.9960 - precision_3: 0.7711 - recall_3: 0.7711\n",
            "\n",
            "\n",
            "done.\n",
            "Please invoke the Learner.lr_plot() method to visually inspect the loss plot to help identify the maximal learning rate associated with falling loss.\n"
          ]
        }
      ]
    },
    {
      "cell_type": "markdown",
      "source": [
        "The learning rate plot can be observed by calling the following method:"
      ],
      "metadata": {
        "id": "7JjAsQkSFHlO"
      }
    },
    {
      "cell_type": "code",
      "source": [
        "# Visually identify best learning rate\n",
        "learner.lr_plot(suggest = True)"
      ],
      "metadata": {
        "colab": {
          "base_uri": "https://localhost:8080/",
          "height": 351
        },
        "id": "oIsCzxs4UqUP",
        "outputId": "b9fd471f-be5b-4418-c577-07577bdc34d9"
      },
      "execution_count": null,
      "outputs": [
        {
          "output_type": "stream",
          "name": "stdout",
          "text": [
            "Three possible suggestions for LR from plot:\n",
            "\tLongest valley (red): 8.77E-05\n",
            "\tMin numerical gradient (purple): 2.69E-05\n",
            "\tMin loss divided by 10 (omitted from plot): 2.12E-03\n"
          ]
        },
        {
          "output_type": "display_data",
          "data": {
            "text/plain": [
              "<Figure size 432x288 with 1 Axes>"
            ],
            "image/png": "[encoded data removed]"
          },
          "metadata": {
            "needs_background": "light"
          }
        }
      ]
    },
    {
      "cell_type": "markdown",
      "source": [
        "**Train**"
      ],
      "metadata": {
        "id": "BMABYoXD1ZMl"
      }
    },
    {
      "cell_type": "markdown",
      "source": [
        "We will now train the model using the autofit method. The method trains the classifier and automatically selects the best performing one preventing underfitting and overfitting of the model."
      ],
      "metadata": {
        "id": "tb411cq-E2Jp"
      }
    },
    {
      "cell_type": "code",
      "source": [
        "# Training using the autofit policy\n",
        "learner.autofit(8.77E-05, early_stopping = 5)"
      ],
      "metadata": {
        "id": "LSDR9TfBFUGl",
        "colab": {
          "base_uri": "https://localhost:8080/"
        },
        "outputId": "5feddd46-101f-4e41-b7ee-d80a17cb6429"
      },
      "execution_count": null,
      "outputs": [
        {
          "output_type": "stream",
          "name": "stdout",
          "text": [
            "reduce_on_plateau automatically enabled at patience=2\n",
            "\n",
            "\n",
            "begin training using triangular learning rate policy with max lr of 8.77e-05...\n",
            "Epoch 1/1024\n",
            "339/339 [==============================] - 10s 24ms/step - loss: 0.4406 - precision_3: 0.8341 - recall_3: 0.8341 - val_loss: 0.3119 - val_precision_3: 0.8959 - val_recall_3: 0.8959\n",
            "Epoch 2/1024\n",
            "339/339 [==============================] - 6s 18ms/step - loss: 0.2744 - precision_3: 0.9193 - recall_3: 0.9193 - val_loss: 0.2112 - val_precision_3: 0.9462 - val_recall_3: 0.9462\n",
            "Epoch 3/1024\n",
            "339/339 [==============================] - 6s 18ms/step - loss: 0.2059 - precision_3: 0.9458 - recall_3: 0.9458 - val_loss: 0.1626 - val_precision_3: 0.9599 - val_recall_3: 0.9599\n",
            "Epoch 4/1024\n",
            "339/339 [==============================] - 6s 18ms/step - loss: 0.1735 - precision_3: 0.9535 - recall_3: 0.9535 - val_loss: 0.1434 - val_precision_3: 0.9590 - val_recall_3: 0.9590\n",
            "Epoch 5/1024\n",
            "339/339 [==============================] - 6s 18ms/step - loss: 0.1545 - precision_3: 0.9576 - recall_3: 0.9576 - val_loss: 0.1311 - val_precision_3: 0.9659 - val_recall_3: 0.9659\n",
            "Epoch 6/1024\n",
            "339/339 [==============================] - 6s 16ms/step - loss: 0.1437 - precision_3: 0.9586 - recall_3: 0.9586 - val_loss: 0.1221 - val_precision_3: 0.9676 - val_recall_3: 0.9676\n",
            "Epoch 7/1024\n",
            "339/339 [==============================] - 6s 16ms/step - loss: 0.1366 - precision_3: 0.9603 - recall_3: 0.9603 - val_loss: 0.1188 - val_precision_3: 0.9676 - val_recall_3: 0.9676\n",
            "Epoch 8/1024\n",
            "339/339 [==============================] - 6s 16ms/step - loss: 0.1315 - precision_3: 0.9630 - recall_3: 0.9630 - val_loss: 0.1156 - val_precision_3: 0.9684 - val_recall_3: 0.9684\n",
            "Epoch 9/1024\n",
            "339/339 [==============================] - 6s 16ms/step - loss: 0.1274 - precision_3: 0.9636 - recall_3: 0.9636 - val_loss: 0.1153 - val_precision_3: 0.9676 - val_recall_3: 0.9676\n",
            "Epoch 10/1024\n",
            "339/339 [==============================] - 6s 17ms/step - loss: 0.1250 - precision_3: 0.9635 - recall_3: 0.9635 - val_loss: 0.1097 - val_precision_3: 0.9701 - val_recall_3: 0.9701\n",
            "Epoch 11/1024\n",
            "339/339 [==============================] - 6s 16ms/step - loss: 0.1222 - precision_3: 0.9645 - recall_3: 0.9645 - val_loss: 0.1087 - val_precision_3: 0.9693 - val_recall_3: 0.9693\n",
            "Epoch 12/1024\n",
            "339/339 [==============================] - 6s 16ms/step - loss: 0.1200 - precision_3: 0.9652 - recall_3: 0.9652 - val_loss: 0.1046 - val_precision_3: 0.9718 - val_recall_3: 0.9718\n",
            "Epoch 13/1024\n",
            "339/339 [==============================] - 6s 16ms/step - loss: 0.1180 - precision_3: 0.9653 - recall_3: 0.9653 - val_loss: 0.1056 - val_precision_3: 0.9710 - val_recall_3: 0.9710\n",
            "Epoch 14/1024\n",
            "339/339 [==============================] - 6s 17ms/step - loss: 0.1164 - precision_3: 0.9668 - recall_3: 0.9668 - val_loss: 0.1016 - val_precision_3: 0.9727 - val_recall_3: 0.9727\n",
            "Epoch 15/1024\n",
            "339/339 [==============================] - 6s 16ms/step - loss: 0.1149 - precision_3: 0.9665 - recall_3: 0.9665 - val_loss: 0.1008 - val_precision_3: 0.9735 - val_recall_3: 0.9735\n",
            "Epoch 16/1024\n",
            "339/339 [==============================] - 5s 16ms/step - loss: 0.1131 - precision_3: 0.9686 - recall_3: 0.9686 - val_loss: 0.0991 - val_precision_3: 0.9744 - val_recall_3: 0.9744\n",
            "Epoch 17/1024\n",
            "339/339 [==============================] - 5s 16ms/step - loss: 0.1119 - precision_3: 0.9681 - recall_3: 0.9681 - val_loss: 0.0990 - val_precision_3: 0.9735 - val_recall_3: 0.9735\n",
            "Epoch 18/1024\n",
            "339/339 [==============================] - 6s 16ms/step - loss: 0.1111 - precision_3: 0.9686 - recall_3: 0.9686 - val_loss: 0.0968 - val_precision_3: 0.9744 - val_recall_3: 0.9744\n",
            "Epoch 19/1024\n",
            "339/339 [==============================] - 6s 16ms/step - loss: 0.1095 - precision_3: 0.9681 - recall_3: 0.9681 - val_loss: 0.0980 - val_precision_3: 0.9735 - val_recall_3: 0.9735\n",
            "Epoch 20/1024\n",
            "337/339 [============================>.] - ETA: 0s - loss: 0.1083 - precision_3: 0.9698 - recall_3: 0.9698\n",
            "Epoch 00020: Reducing Max LR on Plateau: new max lr will be 4.385e-05 (if not early_stopping).\n",
            "339/339 [==============================] - 6s 17ms/step - loss: 0.1088 - precision_3: 0.9698 - recall_3: 0.9698 - val_loss: 0.0983 - val_precision_3: 0.9727 - val_recall_3: 0.9727\n",
            "Epoch 21/1024\n",
            "339/339 [==============================] - 6s 16ms/step - loss: 0.1070 - precision_3: 0.9698 - recall_3: 0.9698 - val_loss: 0.0978 - val_precision_3: 0.9744 - val_recall_3: 0.9744\n",
            "Epoch 22/1024\n",
            "338/339 [============================>.] - ETA: 0s - loss: 0.1065 - precision_3: 0.9703 - recall_3: 0.9703\n",
            "Epoch 00022: Reducing Max LR on Plateau: new max lr will be 2.1925e-05 (if not early_stopping).\n",
            "339/339 [==============================] - 6s 16ms/step - loss: 0.1064 - precision_3: 0.9704 - recall_3: 0.9704 - val_loss: 0.0981 - val_precision_3: 0.9753 - val_recall_3: 0.9753\n",
            "Epoch 23/1024\n",
            "339/339 [==============================] - 6s 17ms/step - loss: 0.1056 - precision_3: 0.9702 - recall_3: 0.9702 - val_loss: 0.0960 - val_precision_3: 0.9753 - val_recall_3: 0.9753\n",
            "Epoch 24/1024\n",
            "339/339 [==============================] - 6s 16ms/step - loss: 0.1050 - precision_3: 0.9706 - recall_3: 0.9706 - val_loss: 0.0960 - val_precision_3: 0.9753 - val_recall_3: 0.9753\n",
            "Epoch 25/1024\n",
            "339/339 [==============================] - 6s 16ms/step - loss: 0.1049 - precision_3: 0.9703 - recall_3: 0.9703 - val_loss: 0.0946 - val_precision_3: 0.9753 - val_recall_3: 0.9753\n",
            "Epoch 26/1024\n",
            "339/339 [==============================] - 6s 17ms/step - loss: 0.1046 - precision_3: 0.9703 - recall_3: 0.9703 - val_loss: 0.0943 - val_precision_3: 0.9753 - val_recall_3: 0.9753\n",
            "Epoch 27/1024\n",
            "339/339 [==============================] - 6s 16ms/step - loss: 0.1043 - precision_3: 0.9706 - recall_3: 0.9706 - val_loss: 0.0951 - val_precision_3: 0.9753 - val_recall_3: 0.9753\n",
            "Epoch 28/1024\n",
            "339/339 [==============================] - ETA: 0s - loss: 0.1040 - precision_3: 0.9701 - recall_3: 0.9701\n",
            "Epoch 00028: Reducing Max LR on Plateau: new max lr will be 1.09625e-05 (if not early_stopping).\n",
            "339/339 [==============================] - 6s 17ms/step - loss: 0.1040 - precision_3: 0.9701 - recall_3: 0.9701 - val_loss: 0.0950 - val_precision_3: 0.9753 - val_recall_3: 0.9753\n",
            "Epoch 29/1024\n",
            "339/339 [==============================] - 6s 17ms/step - loss: 0.1035 - precision_3: 0.9704 - recall_3: 0.9704 - val_loss: 0.0949 - val_precision_3: 0.9753 - val_recall_3: 0.9753\n",
            "Epoch 30/1024\n",
            "336/339 [============================>.] - ETA: 0s - loss: 0.1037 - precision_3: 0.9701 - recall_3: 0.9701\n",
            "Epoch 00030: Reducing Max LR on Plateau: new max lr will be 5.48125e-06 (if not early_stopping).\n",
            "339/339 [==============================] - 6s 17ms/step - loss: 0.1033 - precision_3: 0.9703 - recall_3: 0.9703 - val_loss: 0.0947 - val_precision_3: 0.9753 - val_recall_3: 0.9753\n",
            "Epoch 31/1024\n",
            "339/339 [==============================] - 6s 17ms/step - loss: 0.1030 - precision_3: 0.9699 - recall_3: 0.9699 - val_loss: 0.0940 - val_precision_3: 0.9753 - val_recall_3: 0.9753\n",
            "Epoch 32/1024\n",
            "339/339 [==============================] - 6s 17ms/step - loss: 0.1029 - precision_3: 0.9702 - recall_3: 0.9702 - val_loss: 0.0940 - val_precision_3: 0.9753 - val_recall_3: 0.9753\n",
            "Epoch 33/1024\n",
            "339/339 [==============================] - 6s 16ms/step - loss: 0.1029 - precision_3: 0.9702 - recall_3: 0.9702 - val_loss: 0.0942 - val_precision_3: 0.9753 - val_recall_3: 0.9753\n",
            "Epoch 34/1024\n",
            "338/339 [============================>.] - ETA: 0s - loss: 0.1026 - precision_3: 0.9704 - recall_3: 0.9704\n",
            "Epoch 00034: Reducing Max LR on Plateau: new max lr will be 2.740625e-06 (if not early_stopping).\n",
            "339/339 [==============================] - 6s 16ms/step - loss: 0.1028 - precision_3: 0.9704 - recall_3: 0.9704 - val_loss: 0.0944 - val_precision_3: 0.9753 - val_recall_3: 0.9753\n",
            "Epoch 35/1024\n",
            "339/339 [==============================] - 5s 16ms/step - loss: 0.1026 - precision_3: 0.9707 - recall_3: 0.9707 - val_loss: 0.0940 - val_precision_3: 0.9753 - val_recall_3: 0.9753\n",
            "Epoch 36/1024\n",
            "337/339 [============================>.] - ETA: 0s - loss: 0.1029 - precision_3: 0.9705 - recall_3: 0.9705\n",
            "Epoch 00036: Reducing Max LR on Plateau: new max lr will be 1.3703125e-06 (if not early_stopping).\n",
            "339/339 [==============================] - 6s 17ms/step - loss: 0.1025 - precision_3: 0.9706 - recall_3: 0.9706 - val_loss: 0.0943 - val_precision_3: 0.9753 - val_recall_3: 0.9753\n",
            "Epoch 37/1024\n",
            "339/339 [==============================] - ETA: 0s - loss: 0.1025 - precision_3: 0.9707 - recall_3: 0.9707Restoring model weights from the end of the best epoch: 32.\n",
            "339/339 [==============================] - 6s 16ms/step - loss: 0.1025 - precision_3: 0.9707 - recall_3: 0.9707 - val_loss: 0.0940 - val_precision_3: 0.9753 - val_recall_3: 0.9753\n",
            "Epoch 37: early stopping\n",
            "Weights from best epoch have been loaded into model.\n"
          ]
        },
        {
          "output_type": "execute_result",
          "data": {
            "text/plain": [
              "<keras.callbacks.History at 0x7f125a8e7e10>"
            ]
          },
          "metadata": {},
          "execution_count": 81
        }
      ]
    },
    {
      "cell_type": "markdown",
      "source": [
        "**Evaluate model**"
      ],
      "metadata": {
        "id": "CvcZl3jt1eLN"
      }
    },
    {
      "cell_type": "code",
      "source": [
        "learner.evaluate(val, class_names = preproc.get_classes())"
      ],
      "metadata": {
        "id": "SvFNrt0sJwkx",
        "colab": {
          "base_uri": "https://localhost:8080/"
        },
        "outputId": "f5c8f370-cf92-482a-8d51-542e4875e6a3"
      },
      "execution_count": null,
      "outputs": [
        {
          "output_type": "stream",
          "name": "stdout",
          "text": [
            "              precision    recall  f1-score   support\n",
            "\n",
            "    not_left       0.98      0.98      0.98       886\n",
            "        left       0.95      0.95      0.95       286\n",
            "\n",
            "    accuracy                           0.98      1172\n",
            "   macro avg       0.97      0.97      0.97      1172\n",
            "weighted avg       0.98      0.98      0.98      1172\n",
            "\n"
          ]
        },
        {
          "output_type": "execute_result",
          "data": {
            "text/plain": [
              "array([[872,  14],\n",
              "       [ 15, 271]])"
            ]
          },
          "metadata": {},
          "execution_count": 82
        }
      ]
    },
    {
      "cell_type": "markdown",
      "source": [
        "**Evaluate model on unseen test data**"
      ],
      "metadata": {
        "id": "BvOUwS4r3bOZ"
      }
    },
    {
      "cell_type": "markdown",
      "source": [
        "The learner.evaluate method is just an alias to learner.validate. By default, it was validate/evaluate learner.val_data, but both can accept a test set as an argument in the form of a TabularDataset.\n",
        "\n",
        "We use learner.evaluate here to compute test set metrics."
      ],
      "metadata": {
        "id": "14Cq6wJZ3M_L"
      }
    },
    {
      "cell_type": "code",
      "source": [
        "learner.evaluate(preproc.preprocess_test(test_df), class_names = preproc.get_classes())"
      ],
      "metadata": {
        "colab": {
          "base_uri": "https://localhost:8080/"
        },
        "id": "IL_QJyEq2jgJ",
        "outputId": "5069c4ed-ce89-474a-9a2d-c5aba1faa56e"
      },
      "execution_count": null,
      "outputs": [
        {
          "output_type": "stream",
          "name": "stdout",
          "text": [
            "processing test: 3000 rows x 10 columns\n",
            "['not_left', 'left']\n",
            "       not_left  left\n",
            "6910        1.0   0.0\n",
            "2860        1.0   0.0\n",
            "6286        1.0   0.0\n",
            "12838       1.0   0.0\n",
            "13692       1.0   0.0\n",
            "              precision    recall  f1-score   support\n",
            "\n",
            "    not_left       0.97      0.99      0.98      2286\n",
            "        left       0.95      0.92      0.94       714\n",
            "\n",
            "    accuracy                           0.97      3000\n",
            "   macro avg       0.96      0.95      0.96      3000\n",
            "weighted avg       0.97      0.97      0.97      3000\n",
            "\n"
          ]
        },
        {
          "output_type": "execute_result",
          "data": {
            "text/plain": [
              "array([[2253,   33],\n",
              "       [  58,  656]])"
            ]
          },
          "metadata": {},
          "execution_count": 83
        }
      ]
    }
  ]
}